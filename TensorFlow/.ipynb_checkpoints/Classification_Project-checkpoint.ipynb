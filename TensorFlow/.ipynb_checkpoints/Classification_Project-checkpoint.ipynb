{
 "cells": [
  {
   "cell_type": "markdown",
   "metadata": {
    "collapsed": true
   },
   "source": [
    "# Classification Project"
   ]
  },
  {
   "cell_type": "markdown",
   "metadata": {},
   "source": [
    "In this project, we will try to predict whether a person living in California has the income of <=50k or >50k, given the following features:   "
   ]
  },
  {
   "cell_type": "markdown",
   "metadata": {},
   "source": [
    "<table>\n",
    "<thead>\n",
    "<tr>\n",
    "<th>Column Name</th>\n",
    "<th>Type</th>\n",
    "<th>Description</th>\n",
    "</tr>\n",
    "</thead>\n",
    "<tbody>\n",
    "<tr>\n",
    "<td>age</td>\n",
    "<td>Continuous</td>\n",
    "<td>The age of the individual</td>\n",
    "</tr>\n",
    "<tr>\n",
    "<td>workclass</td>\n",
    "<td>Categorical</td>\n",
    "<td>The type of employer the  individual has (government,  military, private, etc.).</td>\n",
    "</tr>\n",
    "<tr>\n",
    "<td>fnlwgt</td>\n",
    "<td>Continuous</td>\n",
    "<td>The number of people the census  takers believe that observation  represents (sample weight). This  variable will not be used.</td>\n",
    "</tr>\n",
    "<tr>\n",
    "<td>education</td>\n",
    "<td>Categorical</td>\n",
    "<td>The highest level of education  achieved for that individual.</td>\n",
    "</tr>\n",
    "<tr>\n",
    "<td>education_num</td>\n",
    "<td>Continuous</td>\n",
    "<td>The highest level of education in  numerical form.</td>\n",
    "</tr>\n",
    "<tr>\n",
    "<td>marital_status</td>\n",
    "<td>Categorical</td>\n",
    "<td>Marital status of the individual.</td>\n",
    "</tr>\n",
    "<tr>\n",
    "<td>occupation</td>\n",
    "<td>Categorical</td>\n",
    "<td>The occupation of the individual.</td>\n",
    "</tr>\n",
    "<tr>\n",
    "<td>relationship</td>\n",
    "<td>Categorical</td>\n",
    "<td>Wife, Own-child, Husband,  Not-in-family, Other-relative,  Unmarried.</td>\n",
    "</tr>\n",
    "<tr>\n",
    "<td>race</td>\n",
    "<td>Categorical</td>\n",
    "<td>White, Asian-Pac-Islander,  Amer-Indian-Eskimo, Other, Black.</td>\n",
    "</tr>\n",
    "<tr>\n",
    "<td>gender</td>\n",
    "<td>Categorical</td>\n",
    "<td>Female, Male.</td>\n",
    "</tr>\n",
    "<tr>\n",
    "<td>capital_gain</td>\n",
    "<td>Continuous</td>\n",
    "<td>Capital gains recorded.</td>\n",
    "</tr>\n",
    "<tr>\n",
    "<td>capital_loss</td>\n",
    "<td>Continuous</td>\n",
    "<td>Capital Losses recorded.</td>\n",
    "</tr>\n",
    "<tr>\n",
    "<td>hours_per_week</td>\n",
    "<td>Continuous</td>\n",
    "<td>Hours worked per week.</td>\n",
    "</tr>\n",
    "<tr>\n",
    "<td>native_country</td>\n",
    "<td>Categorical</td>\n",
    "<td>Country of origin of the  individual.</td>\n",
    "</tr>\n",
    "<tr>\n",
    "<td>income</td>\n",
    "<td>Categorical</td>\n",
    "<td>\"&gt;50K\" or \"&lt;=50K\", meaning  whether the person makes more  than \\$50,000 annually.</td>\n",
    "</tr>\n",
    "</tbody>\n",
    "</table>"
   ]
  },
  {
   "cell_type": "code",
   "execution_count": 1,
   "metadata": {},
   "outputs": [],
   "source": [
    "import pandas as pd"
   ]
  },
  {
   "cell_type": "code",
   "execution_count": 2,
   "metadata": {},
   "outputs": [],
   "source": [
    "census = pd.read_csv(\"census_data.csv\")"
   ]
  },
  {
   "cell_type": "code",
   "execution_count": 3,
   "metadata": {},
   "outputs": [
    {
     "data": {
      "text/html": [
       "<div>\n",
       "<style scoped>\n",
       "    .dataframe tbody tr th:only-of-type {\n",
       "        vertical-align: middle;\n",
       "    }\n",
       "\n",
       "    .dataframe tbody tr th {\n",
       "        vertical-align: top;\n",
       "    }\n",
       "\n",
       "    .dataframe thead th {\n",
       "        text-align: right;\n",
       "    }\n",
       "</style>\n",
       "<table border=\"1\" class=\"dataframe\">\n",
       "  <thead>\n",
       "    <tr style=\"text-align: right;\">\n",
       "      <th></th>\n",
       "      <th>age</th>\n",
       "      <th>workclass</th>\n",
       "      <th>education</th>\n",
       "      <th>education_num</th>\n",
       "      <th>marital_status</th>\n",
       "      <th>occupation</th>\n",
       "      <th>relationship</th>\n",
       "      <th>race</th>\n",
       "      <th>gender</th>\n",
       "      <th>capital_gain</th>\n",
       "      <th>capital_loss</th>\n",
       "      <th>hours_per_week</th>\n",
       "      <th>native_country</th>\n",
       "      <th>income_bracket</th>\n",
       "    </tr>\n",
       "  </thead>\n",
       "  <tbody>\n",
       "    <tr>\n",
       "      <th>0</th>\n",
       "      <td>39</td>\n",
       "      <td>State-gov</td>\n",
       "      <td>Bachelors</td>\n",
       "      <td>13</td>\n",
       "      <td>Never-married</td>\n",
       "      <td>Adm-clerical</td>\n",
       "      <td>Not-in-family</td>\n",
       "      <td>White</td>\n",
       "      <td>Male</td>\n",
       "      <td>2174</td>\n",
       "      <td>0</td>\n",
       "      <td>40</td>\n",
       "      <td>United-States</td>\n",
       "      <td>&lt;=50K</td>\n",
       "    </tr>\n",
       "    <tr>\n",
       "      <th>1</th>\n",
       "      <td>50</td>\n",
       "      <td>Self-emp-not-inc</td>\n",
       "      <td>Bachelors</td>\n",
       "      <td>13</td>\n",
       "      <td>Married-civ-spouse</td>\n",
       "      <td>Exec-managerial</td>\n",
       "      <td>Husband</td>\n",
       "      <td>White</td>\n",
       "      <td>Male</td>\n",
       "      <td>0</td>\n",
       "      <td>0</td>\n",
       "      <td>13</td>\n",
       "      <td>United-States</td>\n",
       "      <td>&lt;=50K</td>\n",
       "    </tr>\n",
       "    <tr>\n",
       "      <th>2</th>\n",
       "      <td>38</td>\n",
       "      <td>Private</td>\n",
       "      <td>HS-grad</td>\n",
       "      <td>9</td>\n",
       "      <td>Divorced</td>\n",
       "      <td>Handlers-cleaners</td>\n",
       "      <td>Not-in-family</td>\n",
       "      <td>White</td>\n",
       "      <td>Male</td>\n",
       "      <td>0</td>\n",
       "      <td>0</td>\n",
       "      <td>40</td>\n",
       "      <td>United-States</td>\n",
       "      <td>&lt;=50K</td>\n",
       "    </tr>\n",
       "    <tr>\n",
       "      <th>3</th>\n",
       "      <td>53</td>\n",
       "      <td>Private</td>\n",
       "      <td>11th</td>\n",
       "      <td>7</td>\n",
       "      <td>Married-civ-spouse</td>\n",
       "      <td>Handlers-cleaners</td>\n",
       "      <td>Husband</td>\n",
       "      <td>Black</td>\n",
       "      <td>Male</td>\n",
       "      <td>0</td>\n",
       "      <td>0</td>\n",
       "      <td>40</td>\n",
       "      <td>United-States</td>\n",
       "      <td>&lt;=50K</td>\n",
       "    </tr>\n",
       "    <tr>\n",
       "      <th>4</th>\n",
       "      <td>28</td>\n",
       "      <td>Private</td>\n",
       "      <td>Bachelors</td>\n",
       "      <td>13</td>\n",
       "      <td>Married-civ-spouse</td>\n",
       "      <td>Prof-specialty</td>\n",
       "      <td>Wife</td>\n",
       "      <td>Black</td>\n",
       "      <td>Female</td>\n",
       "      <td>0</td>\n",
       "      <td>0</td>\n",
       "      <td>40</td>\n",
       "      <td>Cuba</td>\n",
       "      <td>&lt;=50K</td>\n",
       "    </tr>\n",
       "  </tbody>\n",
       "</table>\n",
       "</div>"
      ],
      "text/plain": [
       "   age          workclass   education  education_num       marital_status  \\\n",
       "0   39          State-gov   Bachelors             13        Never-married   \n",
       "1   50   Self-emp-not-inc   Bachelors             13   Married-civ-spouse   \n",
       "2   38            Private     HS-grad              9             Divorced   \n",
       "3   53            Private        11th              7   Married-civ-spouse   \n",
       "4   28            Private   Bachelors             13   Married-civ-spouse   \n",
       "\n",
       "           occupation    relationship    race   gender  capital_gain  \\\n",
       "0        Adm-clerical   Not-in-family   White     Male          2174   \n",
       "1     Exec-managerial         Husband   White     Male             0   \n",
       "2   Handlers-cleaners   Not-in-family   White     Male             0   \n",
       "3   Handlers-cleaners         Husband   Black     Male             0   \n",
       "4      Prof-specialty            Wife   Black   Female             0   \n",
       "\n",
       "   capital_loss  hours_per_week  native_country income_bracket  \n",
       "0             0              40   United-States          <=50K  \n",
       "1             0              13   United-States          <=50K  \n",
       "2             0              40   United-States          <=50K  \n",
       "3             0              40   United-States          <=50K  \n",
       "4             0              40            Cuba          <=50K  "
      ]
     },
     "execution_count": 3,
     "metadata": {},
     "output_type": "execute_result"
    }
   ],
   "source": [
    "census.head()"
   ]
  },
  {
   "cell_type": "markdown",
   "metadata": {},
   "source": [
    "** The Label is the \"income_bracket\". Currently, they are shown as \" <=50K\" or \" >50K\". We have to covert them to a numeric value of either 0 or 1 instead of strings. **"
   ]
  },
  {
   "cell_type": "code",
   "execution_count": 4,
   "metadata": {},
   "outputs": [
    {
     "data": {
      "text/plain": [
       "array([' <=50K', ' >50K'], dtype=object)"
      ]
     },
     "execution_count": 4,
     "metadata": {},
     "output_type": "execute_result"
    }
   ],
   "source": [
    "census['income_bracket'].unique()"
   ]
  },
  {
   "cell_type": "code",
   "execution_count": 5,
   "metadata": {},
   "outputs": [],
   "source": [
    "def label_fix(label):\n",
    "    if label==' <=50K':\n",
    "        return 0\n",
    "    else:\n",
    "        return 1"
   ]
  },
  {
   "cell_type": "code",
   "execution_count": 6,
   "metadata": {},
   "outputs": [],
   "source": [
    "census['income_bracket'] = census['income_bracket'].apply(label_fix)"
   ]
  },
  {
   "cell_type": "code",
   "execution_count": 7,
   "metadata": {},
   "outputs": [],
   "source": [
    "from sklearn.model_selection import train_test_split"
   ]
  },
  {
   "cell_type": "code",
   "execution_count": 8,
   "metadata": {},
   "outputs": [],
   "source": [
    "x_data = census.drop('income_bracket',axis=1)\n",
    "y_labels = census['income_bracket']\n",
    "X_train, X_test, y_train, y_test = train_test_split(x_data,y_labels,test_size=0.3,random_state=101)"
   ]
  },
  {
   "cell_type": "code",
   "execution_count": 9,
   "metadata": {},
   "outputs": [
    {
     "data": {
      "text/plain": [
       "Index(['age', 'workclass', 'education', 'education_num', 'marital_status',\n",
       "       'occupation', 'relationship', 'race', 'gender', 'capital_gain',\n",
       "       'capital_loss', 'hours_per_week', 'native_country', 'income_bracket'],\n",
       "      dtype='object')"
      ]
     },
     "execution_count": 9,
     "metadata": {},
     "output_type": "execute_result"
    }
   ],
   "source": [
    "census.columns"
   ]
  },
  {
   "cell_type": "code",
   "execution_count": 10,
   "metadata": {},
   "outputs": [
    {
     "name": "stderr",
     "output_type": "stream",
     "text": [
      "/anaconda3/lib/python3.6/site-packages/h5py/__init__.py:36: FutureWarning: Conversion of the second argument of issubdtype from `float` to `np.floating` is deprecated. In future, it will be treated as `np.float64 == np.dtype(float).type`.\n",
      "  from ._conv import register_converters as _register_converters\n"
     ]
    }
   ],
   "source": [
    "import tensorflow as tf"
   ]
  },
  {
   "cell_type": "markdown",
   "metadata": {
    "collapsed": true
   },
   "source": [
    "** Create the tf.feature_columns for the categorical values. Use vocabulary lists or just use hash buckets. **"
   ]
  },
  {
   "cell_type": "code",
   "execution_count": 11,
   "metadata": {},
   "outputs": [],
   "source": [
    "gender = tf.feature_column.categorical_column_with_vocabulary_list(\"gender\", [\"Female\", \"Male\"])\n",
    "occupation = tf.feature_column.categorical_column_with_hash_bucket(\"occupation\", hash_bucket_size=1000)\n",
    "marital_status = tf.feature_column.categorical_column_with_hash_bucket(\"marital_status\", hash_bucket_size=1000)\n",
    "relationship = tf.feature_column.categorical_column_with_hash_bucket(\"relationship\", hash_bucket_size=1000)\n",
    "education = tf.feature_column.categorical_column_with_hash_bucket(\"education\", hash_bucket_size=1000)\n",
    "workclass = tf.feature_column.categorical_column_with_hash_bucket(\"workclass\", hash_bucket_size=1000)\n",
    "native_country = tf.feature_column.categorical_column_with_hash_bucket(\"native_country\", hash_bucket_size=1000)"
   ]
  },
  {
   "cell_type": "markdown",
   "metadata": {},
   "source": [
    "** Create the continuous feature_columns for the continuous values using numeric_column **"
   ]
  },
  {
   "cell_type": "code",
   "execution_count": 12,
   "metadata": {},
   "outputs": [],
   "source": [
    "age = tf.feature_column.numeric_column(\"age\")\n",
    "education_num = tf.feature_column.numeric_column(\"education_num\")\n",
    "capital_gain = tf.feature_column.numeric_column(\"capital_gain\")\n",
    "capital_loss = tf.feature_column.numeric_column(\"capital_loss\")\n",
    "hours_per_week = tf.feature_column.numeric_column(\"hours_per_week\")"
   ]
  },
  {
   "cell_type": "markdown",
   "metadata": {},
   "source": [
    "** Put all these variables into a single list with the variable name feat_cols **"
   ]
  },
  {
   "cell_type": "code",
   "execution_count": 13,
   "metadata": {},
   "outputs": [],
   "source": [
    "feat_cols = [gender,occupation,marital_status,relationship,education,workclass,native_country,\n",
    "            age,education_num,capital_gain,capital_loss,hours_per_week]"
   ]
  },
  {
   "cell_type": "markdown",
   "metadata": {},
   "source": [
    "** Create Input Function **"
   ]
  },
  {
   "cell_type": "code",
   "execution_count": 14,
   "metadata": {},
   "outputs": [],
   "source": [
    "input_func=tf.estimator.inputs.pandas_input_fn(x=X_train,y=y_train,batch_size=100,num_epochs=None,shuffle=True)"
   ]
  },
  {
   "cell_type": "markdown",
   "metadata": {},
   "source": [
    "** Create a model with tf.estimator using a LinearClassifier.(If we want to use a DNNClassifier, we have to create embedded columns out of the cateogrical feature that use strings **"
   ]
  },
  {
   "cell_type": "code",
   "execution_count": 15,
   "metadata": {},
   "outputs": [
    {
     "name": "stdout",
     "output_type": "stream",
     "text": [
      "INFO:tensorflow:Using default config.\n",
      "WARNING:tensorflow:Using temporary folder as model directory: /var/folders/sq/pvvqtq413t55v2xzwlp73j9m0000gn/T/tmpy8cr2wq3\n",
      "INFO:tensorflow:Using config: {'_model_dir': '/var/folders/sq/pvvqtq413t55v2xzwlp73j9m0000gn/T/tmpy8cr2wq3', '_tf_random_seed': None, '_save_summary_steps': 100, '_save_checkpoints_steps': None, '_save_checkpoints_secs': 600, '_session_config': None, '_keep_checkpoint_max': 5, '_keep_checkpoint_every_n_hours': 10000, '_log_step_count_steps': 100, '_train_distribute': None, '_device_fn': None, '_service': None, '_cluster_spec': <tensorflow.python.training.server_lib.ClusterSpec object at 0x11289ec88>, '_task_type': 'worker', '_task_id': 0, '_global_id_in_cluster': 0, '_master': '', '_evaluation_master': '', '_is_chief': True, '_num_ps_replicas': 0, '_num_worker_replicas': 1}\n"
     ]
    }
   ],
   "source": [
    "model = tf.estimator.LinearClassifier(feature_columns=feat_cols)"
   ]
  },
  {
   "cell_type": "markdown",
   "metadata": {},
   "source": [
    "** Train the model **"
   ]
  },
  {
   "cell_type": "code",
   "execution_count": 16,
   "metadata": {},
   "outputs": [
    {
     "name": "stdout",
     "output_type": "stream",
     "text": [
      "INFO:tensorflow:Calling model_fn.\n",
      "INFO:tensorflow:Done calling model_fn.\n",
      "INFO:tensorflow:Create CheckpointSaverHook.\n",
      "INFO:tensorflow:Graph was finalized.\n",
      "INFO:tensorflow:Running local_init_op.\n",
      "INFO:tensorflow:Done running local_init_op.\n",
      "INFO:tensorflow:Saving checkpoints for 0 into /var/folders/sq/pvvqtq413t55v2xzwlp73j9m0000gn/T/tmpy8cr2wq3/model.ckpt.\n",
      "INFO:tensorflow:loss = 69.31472, step = 1\n",
      "INFO:tensorflow:global_step/sec: 228.858\n",
      "INFO:tensorflow:loss = 161.67561, step = 101 (0.439 sec)\n",
      "INFO:tensorflow:global_step/sec: 538.198\n",
      "INFO:tensorflow:loss = 130.11275, step = 201 (0.186 sec)\n",
      "INFO:tensorflow:global_step/sec: 502.106\n",
      "INFO:tensorflow:loss = 45.00477, step = 301 (0.199 sec)\n",
      "INFO:tensorflow:global_step/sec: 526.172\n",
      "INFO:tensorflow:loss = 354.7081, step = 401 (0.189 sec)\n",
      "INFO:tensorflow:global_step/sec: 497.773\n",
      "INFO:tensorflow:loss = 1097.3401, step = 501 (0.201 sec)\n",
      "INFO:tensorflow:global_step/sec: 456.207\n",
      "INFO:tensorflow:loss = 67.83777, step = 601 (0.219 sec)\n",
      "INFO:tensorflow:global_step/sec: 438.346\n",
      "INFO:tensorflow:loss = 216.81645, step = 701 (0.229 sec)\n",
      "INFO:tensorflow:global_step/sec: 505.486\n",
      "INFO:tensorflow:loss = 122.27027, step = 801 (0.198 sec)\n",
      "INFO:tensorflow:global_step/sec: 509.082\n",
      "INFO:tensorflow:loss = 40.149113, step = 901 (0.196 sec)\n",
      "INFO:tensorflow:global_step/sec: 495.668\n",
      "INFO:tensorflow:loss = 27.348051, step = 1001 (0.202 sec)\n",
      "INFO:tensorflow:global_step/sec: 521.926\n",
      "INFO:tensorflow:loss = 67.67648, step = 1101 (0.191 sec)\n",
      "INFO:tensorflow:global_step/sec: 525.433\n",
      "INFO:tensorflow:loss = 47.495865, step = 1201 (0.190 sec)\n",
      "INFO:tensorflow:global_step/sec: 516.524\n",
      "INFO:tensorflow:loss = 95.09467, step = 1301 (0.194 sec)\n",
      "INFO:tensorflow:global_step/sec: 478.643\n",
      "INFO:tensorflow:loss = 57.541714, step = 1401 (0.210 sec)\n",
      "INFO:tensorflow:global_step/sec: 524.444\n",
      "INFO:tensorflow:loss = 212.36252, step = 1501 (0.191 sec)\n",
      "INFO:tensorflow:global_step/sec: 519.222\n",
      "INFO:tensorflow:loss = 39.005344, step = 1601 (0.192 sec)\n",
      "INFO:tensorflow:global_step/sec: 535.017\n",
      "INFO:tensorflow:loss = 45.317883, step = 1701 (0.187 sec)\n",
      "INFO:tensorflow:global_step/sec: 515.355\n",
      "INFO:tensorflow:loss = 50.082874, step = 1801 (0.194 sec)\n",
      "INFO:tensorflow:global_step/sec: 544.576\n",
      "INFO:tensorflow:loss = 29.728338, step = 1901 (0.185 sec)\n",
      "INFO:tensorflow:global_step/sec: 455.853\n",
      "INFO:tensorflow:loss = 248.54248, step = 2001 (0.219 sec)\n",
      "INFO:tensorflow:global_step/sec: 454.881\n",
      "INFO:tensorflow:loss = 44.80747, step = 2101 (0.219 sec)\n",
      "INFO:tensorflow:global_step/sec: 530.237\n",
      "INFO:tensorflow:loss = 31.983557, step = 2201 (0.190 sec)\n",
      "INFO:tensorflow:global_step/sec: 480.513\n",
      "INFO:tensorflow:loss = 51.153828, step = 2301 (0.207 sec)\n",
      "INFO:tensorflow:global_step/sec: 443.412\n",
      "INFO:tensorflow:loss = 82.69245, step = 2401 (0.226 sec)\n",
      "INFO:tensorflow:global_step/sec: 475.375\n",
      "INFO:tensorflow:loss = 29.455885, step = 2501 (0.210 sec)\n",
      "INFO:tensorflow:global_step/sec: 519.74\n",
      "INFO:tensorflow:loss = 72.36265, step = 2601 (0.191 sec)\n",
      "INFO:tensorflow:global_step/sec: 530.451\n",
      "INFO:tensorflow:loss = 55.71003, step = 2701 (0.190 sec)\n",
      "INFO:tensorflow:global_step/sec: 522.352\n",
      "INFO:tensorflow:loss = 25.501013, step = 2801 (0.191 sec)\n",
      "INFO:tensorflow:global_step/sec: 519.243\n",
      "INFO:tensorflow:loss = 99.05312, step = 2901 (0.192 sec)\n",
      "INFO:tensorflow:global_step/sec: 510.861\n",
      "INFO:tensorflow:loss = 130.63794, step = 3001 (0.196 sec)\n",
      "INFO:tensorflow:global_step/sec: 464.169\n",
      "INFO:tensorflow:loss = 54.26795, step = 3101 (0.215 sec)\n",
      "INFO:tensorflow:global_step/sec: 480.397\n",
      "INFO:tensorflow:loss = 53.51054, step = 3201 (0.208 sec)\n",
      "INFO:tensorflow:global_step/sec: 503.026\n",
      "INFO:tensorflow:loss = 37.96102, step = 3301 (0.199 sec)\n",
      "INFO:tensorflow:global_step/sec: 489.678\n",
      "INFO:tensorflow:loss = 29.776089, step = 3401 (0.204 sec)\n",
      "INFO:tensorflow:global_step/sec: 494.254\n",
      "INFO:tensorflow:loss = 90.8443, step = 3501 (0.201 sec)\n",
      "INFO:tensorflow:global_step/sec: 521.361\n",
      "INFO:tensorflow:loss = 36.86222, step = 3601 (0.193 sec)\n",
      "INFO:tensorflow:global_step/sec: 513.874\n",
      "INFO:tensorflow:loss = 26.401873, step = 3701 (0.194 sec)\n",
      "INFO:tensorflow:global_step/sec: 533.775\n",
      "INFO:tensorflow:loss = 100.295685, step = 3801 (0.188 sec)\n",
      "INFO:tensorflow:global_step/sec: 494.144\n",
      "INFO:tensorflow:loss = 233.6375, step = 3901 (0.201 sec)\n",
      "INFO:tensorflow:global_step/sec: 545.67\n",
      "INFO:tensorflow:loss = 153.42615, step = 4001 (0.185 sec)\n",
      "INFO:tensorflow:global_step/sec: 536.001\n",
      "INFO:tensorflow:loss = 129.6025, step = 4101 (0.186 sec)\n",
      "INFO:tensorflow:global_step/sec: 494.716\n",
      "INFO:tensorflow:loss = 42.81751, step = 4201 (0.202 sec)\n",
      "INFO:tensorflow:global_step/sec: 532.39\n",
      "INFO:tensorflow:loss = 55.050137, step = 4301 (0.187 sec)\n",
      "INFO:tensorflow:global_step/sec: 482.854\n",
      "INFO:tensorflow:loss = 26.618864, step = 4401 (0.207 sec)\n",
      "INFO:tensorflow:global_step/sec: 510.282\n",
      "INFO:tensorflow:loss = 60.512352, step = 4501 (0.196 sec)\n",
      "INFO:tensorflow:global_step/sec: 388.933\n",
      "INFO:tensorflow:loss = 27.542324, step = 4601 (0.257 sec)\n",
      "INFO:tensorflow:global_step/sec: 476.94\n",
      "INFO:tensorflow:loss = 39.70708, step = 4701 (0.210 sec)\n",
      "INFO:tensorflow:global_step/sec: 510.991\n",
      "INFO:tensorflow:loss = 49.364002, step = 4801 (0.196 sec)\n",
      "INFO:tensorflow:global_step/sec: 482.372\n",
      "INFO:tensorflow:loss = 66.255936, step = 4901 (0.206 sec)\n",
      "INFO:tensorflow:Saving checkpoints for 5000 into /var/folders/sq/pvvqtq413t55v2xzwlp73j9m0000gn/T/tmpy8cr2wq3/model.ckpt.\n",
      "INFO:tensorflow:Loss for final step: 84.45679.\n"
     ]
    },
    {
     "data": {
      "text/plain": [
       "<tensorflow.python.estimator.canned.linear.LinearClassifier at 0x11a4e9fd0>"
      ]
     },
     "execution_count": 16,
     "metadata": {},
     "output_type": "execute_result"
    }
   ],
   "source": [
    "model.train(input_fn=input_func,steps=5000)"
   ]
  },
  {
   "cell_type": "markdown",
   "metadata": {},
   "source": [
    "** Create a predict input function **"
   ]
  },
  {
   "cell_type": "code",
   "execution_count": 17,
   "metadata": {},
   "outputs": [],
   "source": [
    "pred_fn = tf.estimator.inputs.pandas_input_fn(x=X_test,batch_size=len(X_test),shuffle=False)"
   ]
  },
  {
   "cell_type": "code",
   "execution_count": 18,
   "metadata": {},
   "outputs": [
    {
     "name": "stdout",
     "output_type": "stream",
     "text": [
      "INFO:tensorflow:Calling model_fn.\n",
      "INFO:tensorflow:Done calling model_fn.\n",
      "INFO:tensorflow:Graph was finalized.\n",
      "INFO:tensorflow:Restoring parameters from /var/folders/sq/pvvqtq413t55v2xzwlp73j9m0000gn/T/tmpy8cr2wq3/model.ckpt-5000\n",
      "INFO:tensorflow:Running local_init_op.\n",
      "INFO:tensorflow:Done running local_init_op.\n"
     ]
    }
   ],
   "source": [
    "predictions = list(model.predict(input_fn=pred_fn))"
   ]
  },
  {
   "cell_type": "code",
   "execution_count": 19,
   "metadata": {},
   "outputs": [
    {
     "data": {
      "text/plain": [
       "{'logits': array([-0.73864305], dtype=float32),\n",
       " 'logistic': array([0.32330093], dtype=float32),\n",
       " 'probabilities': array([0.67669904, 0.32330093], dtype=float32),\n",
       " 'class_ids': array([0]),\n",
       " 'classes': array([b'0'], dtype=object)}"
      ]
     },
     "execution_count": 19,
     "metadata": {},
     "output_type": "execute_result"
    }
   ],
   "source": [
    "predictions[0]"
   ]
  },
  {
   "cell_type": "markdown",
   "metadata": {},
   "source": [
    "** Create a list of only the class_ids key values from the prediction list of dictionaries. These are the predictions we will use to compare against the real y_test values. **"
   ]
  },
  {
   "cell_type": "code",
   "execution_count": 20,
   "metadata": {},
   "outputs": [],
   "source": [
    "final_preds = []\n",
    "for pred in predictions:\n",
    "    final_preds.append(pred['class_ids'][0])"
   ]
  },
  {
   "cell_type": "code",
   "execution_count": 21,
   "metadata": {},
   "outputs": [
    {
     "data": {
      "text/plain": [
       "[0, 0, 0, 0, 1, 0, 0, 0, 0, 0]"
      ]
     },
     "execution_count": 21,
     "metadata": {},
     "output_type": "execute_result"
    }
   ],
   "source": [
    "final_preds[:10]"
   ]
  },
  {
   "cell_type": "code",
   "execution_count": 22,
   "metadata": {},
   "outputs": [],
   "source": [
    "from sklearn.metrics import classification_report, confusion_matrix"
   ]
  },
  {
   "cell_type": "code",
   "execution_count": 23,
   "metadata": {},
   "outputs": [
    {
     "name": "stdout",
     "output_type": "stream",
     "text": [
      "             precision    recall  f1-score   support\n",
      "\n",
      "          0       0.88      0.89      0.89      7436\n",
      "          1       0.65      0.62      0.63      2333\n",
      "\n",
      "avg / total       0.83      0.83      0.83      9769\n",
      "\n"
     ]
    }
   ],
   "source": [
    "print(classification_report(y_test,final_preds))"
   ]
  },
  {
   "cell_type": "code",
   "execution_count": 24,
   "metadata": {},
   "outputs": [
    {
     "name": "stdout",
     "output_type": "stream",
     "text": [
      "[[6655  781]\n",
      " [ 895 1438]]\n"
     ]
    }
   ],
   "source": [
    "print(confusion_matrix(y_test,final_preds))"
   ]
  }
 ],
 "metadata": {
  "kernelspec": {
   "display_name": "Python 3",
   "language": "python",
   "name": "python3"
  },
  "language_info": {
   "codemirror_mode": {
    "name": "ipython",
    "version": 3
   },
   "file_extension": ".py",
   "mimetype": "text/x-python",
   "name": "python",
   "nbconvert_exporter": "python",
   "pygments_lexer": "ipython3",
   "version": "3.6.5"
  }
 },
 "nbformat": 4,
 "nbformat_minor": 2
}
